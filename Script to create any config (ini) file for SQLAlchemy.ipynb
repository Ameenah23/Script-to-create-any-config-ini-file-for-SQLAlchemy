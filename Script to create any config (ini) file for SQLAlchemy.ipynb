{
 "cells": [
  {
   "cell_type": "markdown",
   "id": "6216e1b5",
   "metadata": {},
   "source": [
    "## Creating a new config file (WCD_postgresql.ini)"
   ]
  },
  {
   "cell_type": "code",
   "execution_count": 1,
   "id": "2958f84e",
   "metadata": {},
   "outputs": [],
   "source": [
    "import configparser\n",
    "\n",
    "config = configparser.ConfigParser()\n",
    "\n",
    "# Add the structure to the file we will create\n",
    "config.add_section('postgresql')\n",
    "config.set('postgresql', 'DB_TYPE', 'postgresql')\n",
    "config.set('postgresql', 'DB_DRIVER', 'psycopg2')\n",
    "config.set('postgresql', 'DB_HOST', 'xxxxxxx')\n",
    "config.set('postgresql', 'DB_USER', 'ameenah_xxxxx')\n",
    "config.set('postgresql', 'DB_PORT', '5432')\n",
    "config.set('postgresql', 'DB_PASS', 'xxxxx')\n",
    "config.set('postgresql', 'DB_NAME', 'beamdatadwc')\n",
    "\n",
    "\n",
    "# Write the new structure to the new file\n",
    "with open(r\"WCD_postgresql.ini\", 'w') as configfile:\n",
    "    config.write(configfile)"
   ]
  },
  {
   "cell_type": "code",
   "execution_count": null,
   "id": "b591d51a",
   "metadata": {},
   "outputs": [],
   "source": []
  }
 ],
 "metadata": {
  "kernelspec": {
   "display_name": "Python 3 (ipykernel)",
   "language": "python",
   "name": "python3"
  },
  "language_info": {
   "codemirror_mode": {
    "name": "ipython",
    "version": 3
   },
   "file_extension": ".py",
   "mimetype": "text/x-python",
   "name": "python",
   "nbconvert_exporter": "python",
   "pygments_lexer": "ipython3",
   "version": "3.11.3"
  }
 },
 "nbformat": 4,
 "nbformat_minor": 5
}
